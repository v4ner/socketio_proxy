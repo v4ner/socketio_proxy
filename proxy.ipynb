{
 "cells": [
  {
   "cell_type": "markdown",
   "id": "af805a54",
   "metadata": {},
   "source": [
    "# Socket.IO Proxy Runner\n",
    "\n",
    "This notebook starts the Socket.IO proxy.\n",
    "Configuration is defined in the next cell."
   ]
  },
  {
   "cell_type": "code",
   "execution_count": null,
   "id": "e4b76bcf",
   "metadata": {},
   "outputs": [
    {
     "name": "stdout",
     "output_type": "stream",
     "text": [
      "2025-09-01 23:39:45,830 - root - INFO - 第 1 个规则加载了 http, http, websocket 类型的 dispatcher(s)。\n",
      "2025-09-01 23:39:45,831 - root - INFO - 第 2 个规则加载了 http, http 类型的 dispatcher(s)。\n",
      "2025-09-01 23:39:45,833 - root - INFO - SocketIOProxy __init__ called with:\n",
      "2025-09-01 23:39:45,833 - root - INFO -   socketio_server_url: https://bondage-club-server.herokuapp.com/\n",
      "2025-09-01 23:39:45,834 - root - INFO -   listen_host: 0.0.0.0\n",
      "2025-09-01 23:39:45,835 - root - INFO -   listen_port: 3080\n",
      "2025-09-01 23:39:45,835 - root - INFO -   base_url: \n",
      "2025-09-01 23:39:45,836 - root - INFO -   headers: {'Origin': 'https://www.bondage-europe.com'}\n",
      "2025-09-01 23:39:45,884 - root - INFO - Proxy starting. HTTP interface listening on http://0.0.0.0:3080\n",
      "2025-09-01 23:39:45,885 - root - INFO - sio start connect, uri=https://bondage-club-server.herokuapp.com/, headers={'Origin': 'https://www.bondage-europe.com'}\n",
      "2025-09-01 23:39:47,267 - root - INFO - Socket.IO client connected.\n",
      "2025-09-01 23:39:47,269 - root - INFO - Socket.IO client SID: xLLUWD9-m_f749QzAQBF\n",
      "2025-09-01 23:39:47,274 - root - INFO - Using default dispatcher. Message summary: {\"event\": \"ServerInfo\", \"data\": {\"Time\": 1756741187176, \"OnlinePlayers\": 1173}}\n"
     ]
    }
   ],
   "source": [
    "from src.main import run_proxy_from_config\n",
    "import asyncio\n",
    "\n",
    "config_file = 'config.yaml'\n",
    "await run_proxy_from_config(config_file)"
   ]
  }
 ],
 "metadata": {
  "kernelspec": {
   "display_name": "Python 3 (ipykernel)",
   "language": "python",
   "name": "python3"
  },
  "language_info": {
   "codemirror_mode": {
    "name": "ipython",
    "version": 3
   },
   "file_extension": ".py",
   "mimetype": "text/x-python",
   "name": "python",
   "nbconvert_exporter": "python",
   "pygments_lexer": "ipython3",
   "version": "3.11.2"
  }
 },
 "nbformat": 4,
 "nbformat_minor": 5
}
